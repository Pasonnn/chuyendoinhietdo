{
 "cells": [
  {
   "cell_type": "code",
   "execution_count": 2,
   "id": "6b0e3961",
   "metadata": {},
   "outputs": [
    {
     "name": "stdout",
     "output_type": "stream",
     "text": [
      "Nhập độ C: 0\n",
      "Nhiệt độ F là: 32.0\n"
     ]
    }
   ],
   "source": [
    "import math\n",
    "\n",
    "C = input(\"Nhập độ C: \")\n",
    "F = (9*(int(C))/5)+32\n",
    "print(\"Nhiệt độ F là: \" + str(F))"
   ]
  },
  {
   "cell_type": "code",
   "execution_count": null,
   "id": "3b6c7b99",
   "metadata": {},
   "outputs": [],
   "source": []
  }
 ],
 "metadata": {
  "kernelspec": {
   "display_name": "Python 3 (ipykernel)",
   "language": "python",
   "name": "python3"
  },
  "language_info": {
   "codemirror_mode": {
    "name": "ipython",
    "version": 3
   },
   "file_extension": ".py",
   "mimetype": "text/x-python",
   "name": "python",
   "nbconvert_exporter": "python",
   "pygments_lexer": "ipython3",
   "version": "3.9.12"
  }
 },
 "nbformat": 4,
 "nbformat_minor": 5
}
